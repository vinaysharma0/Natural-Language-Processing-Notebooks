{
 "cells": [
  {
   "cell_type": "code",
   "execution_count": 2,
   "metadata": {},
   "outputs": [],
   "source": [
    "from nltk.corpus import gutenberg\n",
    "from nltk.tokenize import sent_tokenize"
   ]
  },
  {
   "cell_type": "code",
   "execution_count": 3,
   "metadata": {},
   "outputs": [
    {
     "name": "stdout",
     "output_type": "stream",
     "text": [
      "['1:5 And God called the light Day, and the darkness he called Night.', 'And the evening and the morning were the first day.', '1:6 And God said, Let there be a firmament in the midst of the waters,\\nand let it divide the waters from the waters.', '1:7 And God made the firmament, and divided the waters which were\\nunder the firmament from the waters which were above the firmament:\\nand it was so.', '1:8 And God called the firmament Heaven.', 'And the evening and the\\nmorning were the second day.', '1:9 And God said, Let the waters under the heaven be gathered together\\nunto one place, and let the dry land appear: and it was so.', '1:10 And God called the dry land Earth; and the gathering together of\\nthe waters called he Seas: and God saw that it was good.', '1:11 And God said, Let the earth bring forth grass, the herb yielding\\nseed, and the fruit tree yielding fruit after his kind, whose seed is\\nin itself, upon the earth: and it was so.', '1:12 And the earth brought forth grass, and herb yielding seed after\\nhis kind, and the tree yielding fruit, whose seed was in itself, after\\nhis kind: and God saw that it was good.']\n"
     ]
    }
   ],
   "source": [
    "sample = gutenberg.raw('bible-kjv.txt')\n",
    "tok = sent_tokenize(sample)\n",
    "print(tok[5:15])"
   ]
  },
  {
   "cell_type": "code",
   "execution_count": 4,
   "metadata": {},
   "outputs": [],
   "source": [
    "from nltk.corpus import wordnet"
   ]
  },
  {
   "cell_type": "code",
   "execution_count": 5,
   "metadata": {},
   "outputs": [
    {
     "data": {
      "text/plain": [
       "[Synset('plan.n.01'),\n",
       " Synset('program.n.02'),\n",
       " Synset('broadcast.n.02'),\n",
       " Synset('platform.n.02'),\n",
       " Synset('program.n.05'),\n",
       " Synset('course_of_study.n.01'),\n",
       " Synset('program.n.07'),\n",
       " Synset('program.n.08'),\n",
       " Synset('program.v.01'),\n",
       " Synset('program.v.02')]"
      ]
     },
     "execution_count": 5,
     "metadata": {},
     "output_type": "execute_result"
    }
   ],
   "source": [
    "syns = wordnet.synsets('program')\n",
    "syns #other words like program"
   ]
  },
  {
   "cell_type": "code",
   "execution_count": 6,
   "metadata": {},
   "outputs": [
    {
     "data": {
      "text/plain": [
       "[Lemma('plan.n.01.plan'),\n",
       " Lemma('plan.n.01.program'),\n",
       " Lemma('plan.n.01.programme')]"
      ]
     },
     "execution_count": 6,
     "metadata": {},
     "output_type": "execute_result"
    }
   ],
   "source": [
    "syns[0].lemmas()"
   ]
  },
  {
   "cell_type": "code",
   "execution_count": 8,
   "metadata": {},
   "outputs": [
    {
     "data": {
      "text/plain": [
       "'plan'"
      ]
     },
     "execution_count": 8,
     "metadata": {},
     "output_type": "execute_result"
    }
   ],
   "source": [
    "# just the word\n",
    "syns[0].lemmas()[0].name()"
   ]
  },
  {
   "cell_type": "code",
   "execution_count": 10,
   "metadata": {},
   "outputs": [
    {
     "data": {
      "text/plain": [
       "'plan.n.01'"
      ]
     },
     "execution_count": 10,
     "metadata": {},
     "output_type": "execute_result"
    }
   ],
   "source": [
    "# synset\n",
    "syns[0].name()"
   ]
  },
  {
   "cell_type": "code",
   "execution_count": 11,
   "metadata": {},
   "outputs": [
    {
     "name": "stdout",
     "output_type": "stream",
     "text": [
      "a series of steps to be carried out or goals to be accomplished\n"
     ]
    }
   ],
   "source": [
    "print(syns[0].definition())"
   ]
  },
  {
   "cell_type": "code",
   "execution_count": 12,
   "metadata": {},
   "outputs": [
    {
     "name": "stdout",
     "output_type": "stream",
     "text": [
      "['they drew up a six-step plan', 'they discussed plans for a new bond issue']\n"
     ]
    }
   ],
   "source": [
    "print(syns[0].examples())"
   ]
  },
  {
   "cell_type": "code",
   "execution_count": 15,
   "metadata": {},
   "outputs": [
    {
     "name": "stdout",
     "output_type": "stream",
     "text": [
      "l:  Lemma('good.n.01.good')\n",
      "l:  Lemma('good.n.02.good')\n",
      "l:  Lemma('good.n.02.goodness')\n",
      "l:  Lemma('good.n.03.good')\n",
      "l:  Lemma('good.n.03.goodness')\n",
      "l:  Lemma('commodity.n.01.commodity')\n",
      "l:  Lemma('commodity.n.01.trade_good')\n",
      "l:  Lemma('commodity.n.01.good')\n",
      "l:  Lemma('good.a.01.good')\n",
      "l:  Lemma('full.s.06.full')\n",
      "l:  Lemma('full.s.06.good')\n",
      "l:  Lemma('good.a.03.good')\n",
      "l:  Lemma('estimable.s.02.estimable')\n",
      "l:  Lemma('estimable.s.02.good')\n",
      "l:  Lemma('estimable.s.02.honorable')\n",
      "l:  Lemma('estimable.s.02.respectable')\n",
      "l:  Lemma('beneficial.s.01.beneficial')\n",
      "l:  Lemma('beneficial.s.01.good')\n",
      "l:  Lemma('good.s.06.good')\n",
      "l:  Lemma('good.s.07.good')\n",
      "l:  Lemma('good.s.07.just')\n",
      "l:  Lemma('good.s.07.upright')\n",
      "l:  Lemma('adept.s.01.adept')\n",
      "l:  Lemma('adept.s.01.expert')\n",
      "l:  Lemma('adept.s.01.good')\n",
      "l:  Lemma('adept.s.01.practiced')\n",
      "l:  Lemma('adept.s.01.proficient')\n",
      "l:  Lemma('adept.s.01.skillful')\n",
      "l:  Lemma('adept.s.01.skilful')\n",
      "l:  Lemma('good.s.09.good')\n",
      "l:  Lemma('dear.s.02.dear')\n",
      "l:  Lemma('dear.s.02.good')\n",
      "l:  Lemma('dear.s.02.near')\n",
      "l:  Lemma('dependable.s.04.dependable')\n",
      "l:  Lemma('dependable.s.04.good')\n",
      "l:  Lemma('dependable.s.04.safe')\n",
      "l:  Lemma('dependable.s.04.secure')\n",
      "l:  Lemma('good.s.12.good')\n",
      "l:  Lemma('good.s.12.right')\n",
      "l:  Lemma('good.s.12.ripe')\n",
      "l:  Lemma('good.s.13.good')\n",
      "l:  Lemma('good.s.13.well')\n",
      "l:  Lemma('effective.s.04.effective')\n",
      "l:  Lemma('effective.s.04.good')\n",
      "l:  Lemma('effective.s.04.in_effect')\n",
      "l:  Lemma('effective.s.04.in_force')\n",
      "l:  Lemma('good.s.15.good')\n",
      "l:  Lemma('good.s.16.good')\n",
      "l:  Lemma('good.s.16.serious')\n",
      "l:  Lemma('good.s.17.good')\n",
      "l:  Lemma('good.s.17.sound')\n",
      "l:  Lemma('good.s.18.good')\n",
      "l:  Lemma('good.s.18.salutary')\n",
      "l:  Lemma('good.s.19.good')\n",
      "l:  Lemma('good.s.19.honest')\n",
      "l:  Lemma('good.s.20.good')\n",
      "l:  Lemma('good.s.20.undecomposed')\n",
      "l:  Lemma('good.s.20.unspoiled')\n",
      "l:  Lemma('good.s.20.unspoilt')\n",
      "l:  Lemma('good.s.21.good')\n",
      "l:  Lemma('well.r.01.well')\n",
      "l:  Lemma('well.r.01.good')\n",
      "l:  Lemma('thoroughly.r.02.thoroughly')\n",
      "l:  Lemma('thoroughly.r.02.soundly')\n",
      "l:  Lemma('thoroughly.r.02.good')\n"
     ]
    }
   ],
   "source": [
    "synonyms = []\n",
    "antonyms = []\n",
    "\n",
    "for syn in wordnet.synsets('good'):\n",
    "    for l in syn.lemmas():\n",
    "        print('l: ', l)\n",
    "        synonyms.append(l.name())\n",
    "        if l.antonyms():\n",
    "            antonyms.append(l.antonyms()[0].name())\n",
    "            \n",
    "# print(set(synonyms))\n",
    "# print(set(antonyms))"
   ]
  },
  {
   "cell_type": "code",
   "execution_count": 16,
   "metadata": {},
   "outputs": [
    {
     "name": "stdout",
     "output_type": "stream",
     "text": [
      "0.9090909090909091\n"
     ]
    }
   ],
   "source": [
    "w1 = wordnet.synset('ship.n.01')\n",
    "w2 = wordnet.synset('boat.n.01')\n",
    "print(w1.wup_similarity(w2))  #wup_similarity gives the similarity percentage"
   ]
  },
  {
   "cell_type": "code",
   "execution_count": 17,
   "metadata": {},
   "outputs": [
    {
     "name": "stdout",
     "output_type": "stream",
     "text": [
      "0.9166666666666666\n"
     ]
    }
   ],
   "source": [
    "w1 = wordnet.synset('car.n.01')\n",
    "w2 = wordnet.synset('truck.n.01')\n",
    "print(w1.wup_similarity(w2))"
   ]
  },
  {
   "cell_type": "code",
   "execution_count": 18,
   "metadata": {},
   "outputs": [
    {
     "name": "stdout",
     "output_type": "stream",
     "text": [
      "0.32\n"
     ]
    }
   ],
   "source": [
    "w1 = wordnet.synset('ship.n.01')\n",
    "w2 = wordnet.synset('cat.n.01')\n",
    "print(w1.wup_similarity(w2))"
   ]
  },
  {
   "cell_type": "code",
   "execution_count": 19,
   "metadata": {},
   "outputs": [
    {
     "name": "stdout",
     "output_type": "stream",
     "text": [
      "0.6666666666666666\n"
     ]
    }
   ],
   "source": [
    "w1 = wordnet.synset('man.n.01')\n",
    "w2 = wordnet.synset('woman.n.01')\n",
    "print(w1.wup_similarity(w2))"
   ]
  },
  {
   "cell_type": "code",
   "execution_count": 20,
   "metadata": {},
   "outputs": [
    {
     "name": "stdout",
     "output_type": "stream",
     "text": [
      "0.6666666666666666\n"
     ]
    }
   ],
   "source": [
    "w1 = wordnet.synset('dog.n.01')\n",
    "w2 = wordnet.synset('man.n.01')\n",
    "print(w1.wup_similarity(w2))\n",
    "\n",
    "# come on man...its not fair...66% really ?"
   ]
  },
  {
   "cell_type": "code",
   "execution_count": 22,
   "metadata": {},
   "outputs": [
    {
     "name": "stdout",
     "output_type": "stream",
     "text": [
      "0.8888888888888888\n"
     ]
    }
   ],
   "source": [
    "w1 = wordnet.synset('human.n.01')\n",
    "w2 = wordnet.synset('monkey.n.01')\n",
    "print(w1.wup_similarity(w2))\n",
    "\n",
    "# its great"
   ]
  },
  {
   "cell_type": "code",
   "execution_count": null,
   "metadata": {},
   "outputs": [],
   "source": []
  }
 ],
 "metadata": {
  "kernelspec": {
   "display_name": "Python 3",
   "language": "python",
   "name": "python3"
  },
  "language_info": {
   "codemirror_mode": {
    "name": "ipython",
    "version": 3
   },
   "file_extension": ".py",
   "mimetype": "text/x-python",
   "name": "python",
   "nbconvert_exporter": "python",
   "pygments_lexer": "ipython3",
   "version": "3.7.6"
  }
 },
 "nbformat": 4,
 "nbformat_minor": 4
}
