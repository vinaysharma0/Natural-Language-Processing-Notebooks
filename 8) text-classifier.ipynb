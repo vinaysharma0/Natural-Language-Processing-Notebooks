{
 "cells": [
  {
   "cell_type": "code",
   "execution_count": 1,
   "metadata": {},
   "outputs": [],
   "source": [
    "import random\n",
    "import nltk\n",
    "from nltk.corpus import movie_reviews"
   ]
  },
  {
   "cell_type": "code",
   "execution_count": 2,
   "metadata": {},
   "outputs": [],
   "source": [
    "docu = [(list(movie_reviews.words(fileid)), category)\n",
    "       for category in movie_reviews.categories()\n",
    "       for fileid in movie_reviews.fileids(category)]"
   ]
  },
  {
   "cell_type": "code",
   "execution_count": 3,
   "metadata": {},
   "outputs": [],
   "source": [
    "random.shuffle(docu)"
   ]
  },
  {
   "cell_type": "code",
   "execution_count": 4,
   "metadata": {},
   "outputs": [
    {
     "name": "stdout",
     "output_type": "stream",
     "text": [
      "(['my', 'giant', 'is', 'two', 'movies', 'for', 'the', 'price', 'of', 'one', ',', 'but', 'neither', 'is', 'worth', 'the', 'cost', 'of', 'admission', ',', 'even', 'if', 'you', 'get', 'in', 'free', '.', 'as', 'lamely', 'directed', 'by', 'michael', 'lehmann', ',', 'the', 'picture', 'tries', 'to', 'be', 'a', 'comedy', 'by', 'using', 'and', 'reusing', 'every', 'giant', 'joke', 'in', 'the', 'book', '.', '(', '\"', 'without', 'goliath', ',', 'david', 'is', 'just', 'some', 'punk', 'throwing', 'rocks', '.', '\"', ')', 'languidly', 'paced', 'throughout', ',', 'the', 'movie', 'becomes', 'increasingly', 'lugubrious', 'as', 'the', 'screenplay', 'by', 'david', 'seltzer', '(', 'the', 'omen', ')', 'meanders', 'toward', 'its', 'sad', 'ending', '.', 'since', 'it', \"'\", 's', 'rarely', 'funny', 'or', 'convincingly', 'dramatic', ',', 'what', 'the', 'filmmakers', 'thought', 'they', 'were', 'doing', 'remains', 'a', 'mystery', '.', 'other', 'than', 'a', 'few', 'nice', 'visuals', ',', 'there', \"'\", 's', 'nothing', 'to', 'recommend', 'the', 'picture', '.', 'with', 'great', 'film', 'comedies', 'under', 'his', 'belt', 'from', 'when', 'harry', 'met', 'sally', '?', 'to', 'the', 'original', 'city', 'slickers', ',', 'billy', 'crystal', 'has', 'shown', 'that', 'he', \"'\", 's', 'more', 'than', 'the', 'world', \"'\", 's', 'best', 'oscar', 'host', '.', 'he', 'does', ',', 'however', ',', 'have', 'a', 'propensity', 'for', 'choosing', 'hopeless', 'material', 'as', 'in', 'last', 'year', \"'\", 's', 'father', \"'\", 's', 'day', 'and', 'this', 'year', \"'\", 's', 'my', 'giant', '.', 'one', 'wonders', 'if', 'he', 'reads', 'the', 'script', 'before', 'agreeing', 'to', 'go', 'ahead', 'with', 'a', 'project', '.', 'surely', 'reading', 'the', 'one', 'for', 'my', 'giant', 'would', 'have', 'shown', 'that', 'there', 'was', 'nothing', 'there', '.', 'perhaps', 'he', 'thought', 'he', 'could', 'ad', 'lib', 'it', 'into', 'success', '.', 'or', 'maybe', 'he', 'wants', 'to', 'be', 'a', 'dramatic', 'actor', 'and', 'thought', 'he', 'could', 'do', 'something', 'serious', 'with', 'the', 'movie', \"'\", 's', 'somber', 'tone', '.', 'the', 'most', 'charitable', 'thing', 'that', 'could', 'be', 'said', 'about', 'it', 'is', 'that', 'it', 'is', 'so', 'ineffectual', 'that', 'people', 'will', 'probably', 'forget', 'they', 'saw', 'it', 'by', 'the', 'next', 'day', '.', 'this', 'one', '-', 'joke', 'movie', \"'\", 's', 'single', 'idea', 'is', 'to', 'place', 'real', '-', 'life', 'basketball', 'player', 'gheorghe', 'muresan', ',', 'who', 'stands', 'seven', 'and', 'a', 'half', 'feet', 'tall', ',', 'into', 'as', 'many', 'visually', 'striking', 'situations', 'as', 'possible', '.', 'sammy', '(', 'crystal', ')', ',', 'an', 'agent', 'currently', 'without', 'clients', ',', 'is', 'rescued', 'after', 'a', 'car', 'accident', 'by', 'a', 'sweet', 'romanian', 'giant', 'named', 'max', '(', 'muresan', ')', '.', 'after', 'throwing', 'out', 'constant', 'one', '-', 'liners', '(', '\"', 'either', 'god', 'is', 'in', 'the', 'salvage', 'business', 'or', 'big', 'foot', 'just', 'took', 'my', 'car', '.', '\"', ')', ',', 'sammy', 'decides', 'to', 'get', 'serious', ',', 'seeing', 'max', 'as', 'his', 'meal', 'ticket', '.', 'and', 'although', 'he', 'doesn', \"'\", 't', 'like', 'it', ',', 'he', \"'\", 's', 'willing', 'to', 'sign', 'max', 'up', 'to', 'do', 'disgusting', 'events', 'like', 'a', 'wrestling', 'match', 'with', 'a', 'half', '-', 'dozen', 'dwarfs', '.', '(', 'the', 'movie', 'itself', 'knows', 'no', 'bounds', 'as', 'it', 'contains', 'one', 'of', 'the', 'most', 'putrid', 'and', 'lengthy', 'vomiting', 'scenes', 'ever', '.', ')', 'after', 'a', 'series', 'of', 'missed', 'opportunities', ',', 'the', 'comedic', 'part', 'of', 'the', 'movie', 'is', 'over', ',', 'and', 'it', 'turns', 'into', 'a', 'cheap', 'and', 'maudlin', 'disease', 'movie', '.', 'we', 'learn', 'that', 'max', \"'\", 's', 'condition', 'is', 'terminal', ',', 'and', 'he', 'will', 'soon', 'die', '.', 'to', 'be', 'fair', ',', 'the', 'movie', 'does', 'contain', 'a', 'few', 'good', 'scenes', '-', 'all', 'of', 'which', 'you', 'can', 'see', 'in', 'the', 'trailers', '.', 'let', \"'\", 's', 'hope', 'billy', 'gets', 'himself', 'a', 'pair', 'of', 'reading', 'glasses', 'before', 'he', 'signs', 'up', 'for', 'another', 'movie', '.', 'my', 'giant', 'runs', 'too', 'long', 'even', 'at', 'just', '1', ':', '37', '.', 'it', 'is', 'rated', 'pg', 'for', 'violence', 'and', 'profanity', 'and', 'would', 'be', 'acceptable', 'for', 'kids', 'around', 'ten', 'and', 'up', '.', 'my', 'son', 'jeffrey', 'and', 'his', 'friend', 'matthew', ',', 'both', '9', ',', 'gave', 'the', 'movie', 'a', 'single', 'star', 'and', 'had', 'nothing', 'good', 'to', 'say', 'about', 'it', '.', 'matthew', 'pointed', 'out', 'that', 'it', '\"', 'is', 'not', 'as', 'good', 'as', 'it', 'could', 'have', 'been', 'or', 'should', 'have', 'been', '.', '\"', '(', 'amen', '.', ')', 'he', 'went', 'on', 'to', 'comment', 'that', 'he', 'did', 'not', 'like', 'the', 'way', 'the', 'movie', 'changed', 'completely', 'in', 'the', 'middle', '.', 'jeffrey', 'complained', 'particularly', 'about', 'how', 'gross', 'the', 'movie', 'was', '.'], 'neg')\n"
     ]
    }
   ],
   "source": [
    "print(docu[1])"
   ]
  },
  {
   "cell_type": "code",
   "execution_count": 5,
   "metadata": {},
   "outputs": [],
   "source": [
    "all_words = []\n",
    "for w in movie_reviews.words():\n",
    "    w = w.lower()\n",
    "    all_words.append(w)"
   ]
  },
  {
   "cell_type": "code",
   "execution_count": 6,
   "metadata": {},
   "outputs": [
    {
     "name": "stdout",
     "output_type": "stream",
     "text": [
      "[(',', 77717), ('the', 76529), ('.', 65876), ('a', 38106), ('and', 35576), ('of', 34123), ('to', 31937), (\"'\", 30585), ('is', 25195), ('in', 21822), ('s', 18513), ('\"', 17612), ('it', 16107), ('that', 15924), ('-', 15595)]\n"
     ]
    }
   ],
   "source": [
    "all_words = nltk.FreqDist(all_words)\n",
    "print(all_words.most_common()[:15])"
   ]
  },
  {
   "cell_type": "code",
   "execution_count": 7,
   "metadata": {},
   "outputs": [
    {
     "name": "stdout",
     "output_type": "stream",
     "text": [
      "253\n"
     ]
    }
   ],
   "source": [
    "print(all_words['stupid'])"
   ]
  },
  {
   "cell_type": "code",
   "execution_count": 8,
   "metadata": {},
   "outputs": [
    {
     "name": "stdout",
     "output_type": "stream",
     "text": [
      "1333\n"
     ]
    }
   ],
   "source": [
    "print(all_words['best'])"
   ]
  },
  {
   "cell_type": "code",
   "execution_count": 9,
   "metadata": {},
   "outputs": [
    {
     "name": "stdout",
     "output_type": "stream",
     "text": [
      "308\n"
     ]
    }
   ],
   "source": [
    "print(all_words['worst'])"
   ]
  },
  {
   "cell_type": "code",
   "execution_count": 10,
   "metadata": {},
   "outputs": [],
   "source": [
    "word_features = list(all_words.keys())[:3000]"
   ]
  },
  {
   "cell_type": "code",
   "execution_count": 11,
   "metadata": {},
   "outputs": [],
   "source": [
    "def find_features(document):\n",
    "    words = set(document)\n",
    "    features = {}\n",
    "    for w in word_features:\n",
    "        features[w] = (w in words)\n",
    "    return features"
   ]
  },
  {
   "cell_type": "code",
   "execution_count": 12,
   "metadata": {},
   "outputs": [],
   "source": [
    "# print(find_features(movie_reviews.words('neg/cv000_29416.txt')))\n",
    "\n",
    "feature_sets = [(find_features(rev), category) for (rev, category) in docu]"
   ]
  },
  {
   "cell_type": "code",
   "execution_count": 19,
   "metadata": {},
   "outputs": [],
   "source": [
    "train = feature_sets[:1900]\n",
    "test = feature_sets[1900:]"
   ]
  },
  {
   "cell_type": "code",
   "execution_count": 20,
   "metadata": {},
   "outputs": [
    {
     "name": "stdout",
     "output_type": "stream",
     "text": [
      "Naive baise algo accuracy :  78.0\n",
      "Most Informative Features\n",
      "                   sucks = True              neg : pos    =     10.2 : 1.0\n",
      "                  annual = True              pos : neg    =      9.6 : 1.0\n",
      "           unimaginative = True              neg : pos    =      8.4 : 1.0\n",
      "                 frances = True              pos : neg    =      8.3 : 1.0\n",
      "               atrocious = True              neg : pos    =      7.0 : 1.0\n",
      "                    mena = True              neg : pos    =      7.0 : 1.0\n",
      "                  suvari = True              neg : pos    =      7.0 : 1.0\n",
      "                  shoddy = True              neg : pos    =      7.0 : 1.0\n",
      "                 idiotic = True              neg : pos    =      7.0 : 1.0\n",
      "                  regard = True              pos : neg    =      7.0 : 1.0\n",
      "              schumacher = True              neg : pos    =      6.6 : 1.0\n",
      "                    lame = True              neg : pos    =      6.5 : 1.0\n",
      "             silverstone = True              neg : pos    =      6.4 : 1.0\n",
      "                    cube = True              neg : pos    =      6.4 : 1.0\n",
      "                 kidding = True              neg : pos    =      6.4 : 1.0\n"
     ]
    }
   ],
   "source": [
    "clf = nltk.NaiveBayesClassifier.train(train)\n",
    "print('Naive baise algo accuracy : ', (nltk.classify.accuracy(clf, test))*100)\n",
    "clf.show_most_informative_features(15)"
   ]
  },
  {
   "cell_type": "code",
   "execution_count": null,
   "metadata": {},
   "outputs": [],
   "source": []
  }
 ],
 "metadata": {
  "kernelspec": {
   "display_name": "Python 3",
   "language": "python",
   "name": "python3"
  },
  "language_info": {
   "codemirror_mode": {
    "name": "ipython",
    "version": 3
   },
   "file_extension": ".py",
   "mimetype": "text/x-python",
   "name": "python",
   "nbconvert_exporter": "python",
   "pygments_lexer": "ipython3",
   "version": "3.7.6"
  }
 },
 "nbformat": 4,
 "nbformat_minor": 4
}
